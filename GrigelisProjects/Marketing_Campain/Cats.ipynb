{
 "cells": [
  {
   "cell_type": "code",
   "execution_count": 1,
   "metadata": {},
   "outputs": [
    {
     "data": {
      "text/html": [
       "<div>\n",
       "<style scoped>\n",
       "    .dataframe tbody tr th:only-of-type {\n",
       "        vertical-align: middle;\n",
       "    }\n",
       "\n",
       "    .dataframe tbody tr th {\n",
       "        vertical-align: top;\n",
       "    }\n",
       "\n",
       "    .dataframe thead th {\n",
       "        text-align: right;\n",
       "    }\n",
       "</style>\n",
       "<table border=\"1\" class=\"dataframe\">\n",
       "  <thead>\n",
       "    <tr style=\"text-align: right;\">\n",
       "      <th></th>\n",
       "      <th>userid</th>\n",
       "      <th>version</th>\n",
       "      <th>sum_gamerounds</th>\n",
       "      <th>retention_1</th>\n",
       "      <th>retention_7</th>\n",
       "    </tr>\n",
       "  </thead>\n",
       "  <tbody>\n",
       "    <tr>\n",
       "      <th>0</th>\n",
       "      <td>116</td>\n",
       "      <td>gate_30</td>\n",
       "      <td>3</td>\n",
       "      <td>False</td>\n",
       "      <td>False</td>\n",
       "    </tr>\n",
       "    <tr>\n",
       "      <th>1</th>\n",
       "      <td>337</td>\n",
       "      <td>gate_30</td>\n",
       "      <td>38</td>\n",
       "      <td>True</td>\n",
       "      <td>False</td>\n",
       "    </tr>\n",
       "    <tr>\n",
       "      <th>2</th>\n",
       "      <td>377</td>\n",
       "      <td>gate_40</td>\n",
       "      <td>165</td>\n",
       "      <td>True</td>\n",
       "      <td>False</td>\n",
       "    </tr>\n",
       "    <tr>\n",
       "      <th>3</th>\n",
       "      <td>483</td>\n",
       "      <td>gate_40</td>\n",
       "      <td>1</td>\n",
       "      <td>False</td>\n",
       "      <td>False</td>\n",
       "    </tr>\n",
       "    <tr>\n",
       "      <th>4</th>\n",
       "      <td>488</td>\n",
       "      <td>gate_40</td>\n",
       "      <td>179</td>\n",
       "      <td>True</td>\n",
       "      <td>True</td>\n",
       "    </tr>\n",
       "  </tbody>\n",
       "</table>\n",
       "</div>"
      ],
      "text/plain": [
       "   userid  version  sum_gamerounds  retention_1  retention_7\n",
       "0     116  gate_30               3        False        False\n",
       "1     337  gate_30              38         True        False\n",
       "2     377  gate_40             165         True        False\n",
       "3     483  gate_40               1        False        False\n",
       "4     488  gate_40             179         True         True"
      ]
     },
     "execution_count": 1,
     "metadata": {},
     "output_type": "execute_result"
    }
   ],
   "source": [
    "import pandas as pd\n",
    "import matplotlib.pyplot as plt\n",
    "from scipy import stats\n",
    "import seaborn as sns\n",
    "import numpy as np\n",
    "import scipy.stats as stats\n",
    "from scipy.stats import ttest_ind\n",
    "from statsmodels.stats.proportion import proportions_ztest\n",
    "from statsmodels.stats.weightstats import ztest\n",
    "\n",
    "\n",
    "path = \"C:/Users/Dell/Desktop/M2S2/cookie_cats.csv\"\n",
    "data = pd.read_csv(path)\n",
    "data.head()"
   ]
  },
  {
   "cell_type": "markdown",
   "metadata": {},
   "source": [
    "## Introduction"
   ]
  },
  {
   "cell_type": "markdown",
   "metadata": {},
   "source": [
    "## Project description"
   ]
  },
  {
   "cell_type": "markdown",
   "metadata": {},
   "source": [
    "This dataset includes A/B test results of Cookie Cats to examine what happens when the first gate in the game was moved from level 30 to level 40. When a player installed the game, he or she was randomly assigned to either gate_30 or gate_40."
   ]
  },
  {
   "cell_type": "markdown",
   "metadata": {},
   "source": [
    "## Goal"
   ]
  },
  {
   "cell_type": "markdown",
   "metadata": {},
   "source": [
    "Evaluate which strategy is more effient, when gates are in gate_30 or gate_40."
   ]
  },
  {
   "cell_type": "markdown",
   "metadata": {},
   "source": [
    "## EDA"
   ]
  },
  {
   "cell_type": "markdown",
   "metadata": {},
   "source": [
    "### Checking types of the data."
   ]
  },
  {
   "cell_type": "code",
   "execution_count": 2,
   "metadata": {},
   "outputs": [
    {
     "name": "stdout",
     "output_type": "stream",
     "text": [
      "<class 'pandas.core.frame.DataFrame'>\n",
      "RangeIndex: 90189 entries, 0 to 90188\n",
      "Data columns (total 5 columns):\n",
      " #   Column          Non-Null Count  Dtype \n",
      "---  ------          --------------  ----- \n",
      " 0   userid          90189 non-null  int64 \n",
      " 1   version         90189 non-null  object\n",
      " 2   sum_gamerounds  90189 non-null  int64 \n",
      " 3   retention_1     90189 non-null  bool  \n",
      " 4   retention_7     90189 non-null  bool  \n",
      "dtypes: bool(2), int64(2), object(1)\n",
      "memory usage: 2.2+ MB\n"
     ]
    }
   ],
   "source": [
    "data.info()"
   ]
  },
  {
   "cell_type": "markdown",
   "metadata": {},
   "source": [
    "### Versions renamed: gate_30 to 1 and gate_40 to 2."
   ]
  },
  {
   "cell_type": "code",
   "execution_count": 3,
   "metadata": {},
   "outputs": [
    {
     "data": {
      "text/html": [
       "<div>\n",
       "<style scoped>\n",
       "    .dataframe tbody tr th:only-of-type {\n",
       "        vertical-align: middle;\n",
       "    }\n",
       "\n",
       "    .dataframe tbody tr th {\n",
       "        vertical-align: top;\n",
       "    }\n",
       "\n",
       "    .dataframe thead th {\n",
       "        text-align: right;\n",
       "    }\n",
       "</style>\n",
       "<table border=\"1\" class=\"dataframe\">\n",
       "  <thead>\n",
       "    <tr style=\"text-align: right;\">\n",
       "      <th></th>\n",
       "      <th>userid</th>\n",
       "      <th>version</th>\n",
       "      <th>sum_gamerounds</th>\n",
       "      <th>retention_1</th>\n",
       "      <th>retention_7</th>\n",
       "    </tr>\n",
       "  </thead>\n",
       "  <tbody>\n",
       "    <tr>\n",
       "      <th>0</th>\n",
       "      <td>116</td>\n",
       "      <td>1</td>\n",
       "      <td>3</td>\n",
       "      <td>False</td>\n",
       "      <td>False</td>\n",
       "    </tr>\n",
       "    <tr>\n",
       "      <th>1</th>\n",
       "      <td>337</td>\n",
       "      <td>1</td>\n",
       "      <td>38</td>\n",
       "      <td>True</td>\n",
       "      <td>False</td>\n",
       "    </tr>\n",
       "    <tr>\n",
       "      <th>2</th>\n",
       "      <td>377</td>\n",
       "      <td>2</td>\n",
       "      <td>165</td>\n",
       "      <td>True</td>\n",
       "      <td>False</td>\n",
       "    </tr>\n",
       "    <tr>\n",
       "      <th>3</th>\n",
       "      <td>483</td>\n",
       "      <td>2</td>\n",
       "      <td>1</td>\n",
       "      <td>False</td>\n",
       "      <td>False</td>\n",
       "    </tr>\n",
       "    <tr>\n",
       "      <th>4</th>\n",
       "      <td>488</td>\n",
       "      <td>2</td>\n",
       "      <td>179</td>\n",
       "      <td>True</td>\n",
       "      <td>True</td>\n",
       "    </tr>\n",
       "  </tbody>\n",
       "</table>\n",
       "</div>"
      ],
      "text/plain": [
       "   userid version  sum_gamerounds  retention_1  retention_7\n",
       "0     116       1               3        False        False\n",
       "1     337       1              38         True        False\n",
       "2     377       2             165         True        False\n",
       "3     483       2               1        False        False\n",
       "4     488       2             179         True         True"
      ]
     },
     "execution_count": 3,
     "metadata": {},
     "output_type": "execute_result"
    }
   ],
   "source": [
    "data[\"version\"] = data[\"version\"].replace({\"gate_30\": \"1\", \"gate_40\": \"2\"})\n",
    "\n",
    "data.head()"
   ]
  },
  {
   "cell_type": "markdown",
   "metadata": {},
   "source": [
    "User count in groups"
   ]
  },
  {
   "cell_type": "code",
   "execution_count": 4,
   "metadata": {},
   "outputs": [
    {
     "name": "stdout",
     "output_type": "stream",
     "text": [
      "Version 1: 44700\n",
      "Version 2: 45489\n"
     ]
    }
   ],
   "source": [
    "count_version_1 = (data[\"version\"] == \"1\").sum()\n",
    "print(f\"Version 1: {count_version_1}\")\n",
    "count_version_1 = (data[\"version\"] == \"2\").sum()\n",
    "print(f\"Version 2: {count_version_1}\")"
   ]
  },
  {
   "cell_type": "markdown",
   "metadata": {},
   "source": [
    "Deleting users who not reached: with version 1 - 30 and version 2 - 40. It is assumed that in order to reach the goal, it is necessary to play the corresponding number of rounds."
   ]
  },
  {
   "cell_type": "code",
   "execution_count": 5,
   "metadata": {},
   "outputs": [
    {
     "name": "stdout",
     "output_type": "stream",
     "text": [
      "Remaining rows after deletion: 30483\n"
     ]
    }
   ],
   "source": [
    "data = data[\n",
    "    ~((data[\"version\"] == \"1\") & (data[\"sum_gamerounds\"] < 30))\n",
    "    & ~((data[\"version\"] == \"2\") & (data[\"sum_gamerounds\"] < 40))\n",
    "]\n",
    "\n",
    "print(f\"Remaining rows after deletion: {data.shape[0]}\")"
   ]
  },
  {
   "cell_type": "code",
   "execution_count": 6,
   "metadata": {},
   "outputs": [
    {
     "name": "stdout",
     "output_type": "stream",
     "text": [
      "Version 1: 16656\n",
      "Version 2: 13827\n"
     ]
    }
   ],
   "source": [
    "count_version_1 = (data[\"version\"] == \"1\").sum()\n",
    "print(f\"Version 1: {count_version_1}\")\n",
    "count_version_1 = (data[\"version\"] == \"2\").sum()\n",
    "print(f\"Version 2: {count_version_1}\")"
   ]
  },
  {
   "cell_type": "markdown",
   "metadata": {},
   "source": [
    "### Cheking data for duplicated userid."
   ]
  },
  {
   "cell_type": "code",
   "execution_count": 7,
   "metadata": {},
   "outputs": [
    {
     "name": "stdout",
     "output_type": "stream",
     "text": [
      "Series([], Name: userid, dtype: int64)\n"
     ]
    }
   ],
   "source": [
    "duplicate_userids = data[\"userid\"][data.duplicated()]\n",
    "print(duplicate_userids)"
   ]
  },
  {
   "cell_type": "code",
   "execution_count": 8,
   "metadata": {},
   "outputs": [
    {
     "name": "stdout",
     "output_type": "stream",
     "text": [
      "Series([], Name: count, dtype: int64)\n"
     ]
    }
   ],
   "source": [
    "userid_counts = data[\"userid\"].value_counts()\n",
    "duplicates = userid_counts[userid_counts > 1]\n",
    "print(duplicates)"
   ]
  },
  {
   "cell_type": "markdown",
   "metadata": {},
   "source": [
    "No duplicates found."
   ]
  },
  {
   "cell_type": "markdown",
   "metadata": {},
   "source": [
    "### Table sorted by sum_gameround."
   ]
  },
  {
   "cell_type": "code",
   "execution_count": 9,
   "metadata": {},
   "outputs": [
    {
     "data": {
      "text/html": [
       "<div>\n",
       "<style scoped>\n",
       "    .dataframe tbody tr th:only-of-type {\n",
       "        vertical-align: middle;\n",
       "    }\n",
       "\n",
       "    .dataframe tbody tr th {\n",
       "        vertical-align: top;\n",
       "    }\n",
       "\n",
       "    .dataframe thead th {\n",
       "        text-align: right;\n",
       "    }\n",
       "</style>\n",
       "<table border=\"1\" class=\"dataframe\">\n",
       "  <thead>\n",
       "    <tr style=\"text-align: right;\">\n",
       "      <th></th>\n",
       "      <th>userid</th>\n",
       "      <th>version</th>\n",
       "      <th>sum_gamerounds</th>\n",
       "      <th>retention_1</th>\n",
       "      <th>retention_7</th>\n",
       "    </tr>\n",
       "  </thead>\n",
       "  <tbody>\n",
       "    <tr>\n",
       "      <th>57702</th>\n",
       "      <td>6390605</td>\n",
       "      <td>1</td>\n",
       "      <td>49854</td>\n",
       "      <td>False</td>\n",
       "      <td>True</td>\n",
       "    </tr>\n",
       "    <tr>\n",
       "      <th>7912</th>\n",
       "      <td>871500</td>\n",
       "      <td>1</td>\n",
       "      <td>2961</td>\n",
       "      <td>True</td>\n",
       "      <td>True</td>\n",
       "    </tr>\n",
       "    <tr>\n",
       "      <th>29417</th>\n",
       "      <td>3271615</td>\n",
       "      <td>2</td>\n",
       "      <td>2640</td>\n",
       "      <td>True</td>\n",
       "      <td>False</td>\n",
       "    </tr>\n",
       "    <tr>\n",
       "      <th>43671</th>\n",
       "      <td>4832608</td>\n",
       "      <td>1</td>\n",
       "      <td>2438</td>\n",
       "      <td>True</td>\n",
       "      <td>True</td>\n",
       "    </tr>\n",
       "    <tr>\n",
       "      <th>48188</th>\n",
       "      <td>5346171</td>\n",
       "      <td>2</td>\n",
       "      <td>2294</td>\n",
       "      <td>True</td>\n",
       "      <td>True</td>\n",
       "    </tr>\n",
       "    <tr>\n",
       "      <th>...</th>\n",
       "      <td>...</td>\n",
       "      <td>...</td>\n",
       "      <td>...</td>\n",
       "      <td>...</td>\n",
       "      <td>...</td>\n",
       "    </tr>\n",
       "    <tr>\n",
       "      <th>89442</th>\n",
       "      <td>9918007</td>\n",
       "      <td>1</td>\n",
       "      <td>30</td>\n",
       "      <td>True</td>\n",
       "      <td>False</td>\n",
       "    </tr>\n",
       "    <tr>\n",
       "      <th>30168</th>\n",
       "      <td>3358509</td>\n",
       "      <td>1</td>\n",
       "      <td>30</td>\n",
       "      <td>False</td>\n",
       "      <td>False</td>\n",
       "    </tr>\n",
       "    <tr>\n",
       "      <th>30192</th>\n",
       "      <td>3362018</td>\n",
       "      <td>1</td>\n",
       "      <td>30</td>\n",
       "      <td>False</td>\n",
       "      <td>False</td>\n",
       "    </tr>\n",
       "    <tr>\n",
       "      <th>30243</th>\n",
       "      <td>3367180</td>\n",
       "      <td>1</td>\n",
       "      <td>30</td>\n",
       "      <td>False</td>\n",
       "      <td>False</td>\n",
       "    </tr>\n",
       "    <tr>\n",
       "      <th>31349</th>\n",
       "      <td>3488422</td>\n",
       "      <td>1</td>\n",
       "      <td>30</td>\n",
       "      <td>False</td>\n",
       "      <td>False</td>\n",
       "    </tr>\n",
       "  </tbody>\n",
       "</table>\n",
       "<p>30483 rows × 5 columns</p>\n",
       "</div>"
      ],
      "text/plain": [
       "        userid version  sum_gamerounds  retention_1  retention_7\n",
       "57702  6390605       1           49854        False         True\n",
       "7912    871500       1            2961         True         True\n",
       "29417  3271615       2            2640         True        False\n",
       "43671  4832608       1            2438         True         True\n",
       "48188  5346171       2            2294         True         True\n",
       "...        ...     ...             ...          ...          ...\n",
       "89442  9918007       1              30         True        False\n",
       "30168  3358509       1              30        False        False\n",
       "30192  3362018       1              30        False        False\n",
       "30243  3367180       1              30        False        False\n",
       "31349  3488422       1              30        False        False\n",
       "\n",
       "[30483 rows x 5 columns]"
      ]
     },
     "execution_count": 9,
     "metadata": {},
     "output_type": "execute_result"
    }
   ],
   "source": [
    "sorted = data.sort_values(by=\"sum_gamerounds\", ascending=False)\n",
    "sorted"
   ]
  },
  {
   "cell_type": "code",
   "execution_count": 10,
   "metadata": {},
   "outputs": [
    {
     "data": {
      "image/png": "[encoded data removed]",
      "text/plain": [
       "<Figure size 640x480 with 1 Axes>"
      ]
     },
     "metadata": {},
     "output_type": "display_data"
    }
   ],
   "source": [
    "sns.boxplot(y=data[\"sum_gamerounds\"])\n",
    "plt.title(\"Boxplot\")\n",
    "plt.show()"
   ]
  },
  {
   "cell_type": "markdown",
   "metadata": {},
   "source": [
    "## IQR test"
   ]
  },
  {
   "cell_type": "code",
   "execution_count": 11,
   "metadata": {},
   "outputs": [
    {
     "name": "stdout",
     "output_type": "stream",
     "text": [
      "Q1: 50.0, Q3: 154.0, IQR: 104.0\n",
      "Lower bound: -106.0, Upper bound: 310.0\n",
      "Outliers detected:\n"
     ]
    },
    {
     "data": {
      "text/html": [
       "<div>\n",
       "<style scoped>\n",
       "    .dataframe tbody tr th:only-of-type {\n",
       "        vertical-align: middle;\n",
       "    }\n",
       "\n",
       "    .dataframe tbody tr th {\n",
       "        vertical-align: top;\n",
       "    }\n",
       "\n",
       "    .dataframe thead th {\n",
       "        text-align: right;\n",
       "    }\n",
       "</style>\n",
       "<table border=\"1\" class=\"dataframe\">\n",
       "  <thead>\n",
       "    <tr style=\"text-align: right;\">\n",
       "      <th></th>\n",
       "      <th>userid</th>\n",
       "      <th>version</th>\n",
       "      <th>sum_gamerounds</th>\n",
       "      <th>retention_1</th>\n",
       "      <th>retention_7</th>\n",
       "    </tr>\n",
       "  </thead>\n",
       "  <tbody>\n",
       "    <tr>\n",
       "      <th>45</th>\n",
       "      <td>4929</td>\n",
       "      <td>1</td>\n",
       "      <td>386</td>\n",
       "      <td>True</td>\n",
       "      <td>True</td>\n",
       "    </tr>\n",
       "    <tr>\n",
       "      <th>237</th>\n",
       "      <td>22299</td>\n",
       "      <td>2</td>\n",
       "      <td>493</td>\n",
       "      <td>True</td>\n",
       "      <td>True</td>\n",
       "    </tr>\n",
       "    <tr>\n",
       "      <th>275</th>\n",
       "      <td>26586</td>\n",
       "      <td>1</td>\n",
       "      <td>391</td>\n",
       "      <td>True</td>\n",
       "      <td>False</td>\n",
       "    </tr>\n",
       "    <tr>\n",
       "      <th>320</th>\n",
       "      <td>31903</td>\n",
       "      <td>1</td>\n",
       "      <td>467</td>\n",
       "      <td>True</td>\n",
       "      <td>True</td>\n",
       "    </tr>\n",
       "    <tr>\n",
       "      <th>346</th>\n",
       "      <td>34597</td>\n",
       "      <td>2</td>\n",
       "      <td>334</td>\n",
       "      <td>True</td>\n",
       "      <td>True</td>\n",
       "    </tr>\n",
       "  </tbody>\n",
       "</table>\n",
       "</div>"
      ],
      "text/plain": [
       "     userid version  sum_gamerounds  retention_1  retention_7\n",
       "45     4929       1             386         True         True\n",
       "237   22299       2             493         True         True\n",
       "275   26586       1             391         True        False\n",
       "320   31903       1             467         True         True\n",
       "346   34597       2             334         True         True"
      ]
     },
     "execution_count": 11,
     "metadata": {},
     "output_type": "execute_result"
    }
   ],
   "source": [
    "Q1 = data[\"sum_gamerounds\"].quantile(0.25)\n",
    "Q3 = data[\"sum_gamerounds\"].quantile(0.75)\n",
    "IQR = Q3 - Q1\n",
    "\n",
    "lower_bound = Q1 - 1.5 * IQR\n",
    "upper_bound = Q3 + 1.5 * IQR\n",
    "\n",
    "outliers = data[\n",
    "    (data[\"sum_gamerounds\"] < lower_bound) | (data[\"sum_gamerounds\"] > upper_bound)\n",
    "]\n",
    "\n",
    "print(f\"Q1: {Q1}, Q3: {Q3}, IQR: {IQR}\")\n",
    "print(f\"Lower bound: {lower_bound}, Upper bound: {upper_bound}\")\n",
    "print(\"Outliers detected:\")\n",
    "outliers.head()"
   ]
  },
  {
   "cell_type": "markdown",
   "metadata": {},
   "source": [
    "### Deleting user 6390605 data due to extreamly high value. "
   ]
  },
  {
   "cell_type": "code",
   "execution_count": 12,
   "metadata": {},
   "outputs": [
    {
     "data": {
      "text/html": [
       "<div>\n",
       "<style scoped>\n",
       "    .dataframe tbody tr th:only-of-type {\n",
       "        vertical-align: middle;\n",
       "    }\n",
       "\n",
       "    .dataframe tbody tr th {\n",
       "        vertical-align: top;\n",
       "    }\n",
       "\n",
       "    .dataframe thead th {\n",
       "        text-align: right;\n",
       "    }\n",
       "</style>\n",
       "<table border=\"1\" class=\"dataframe\">\n",
       "  <thead>\n",
       "    <tr style=\"text-align: right;\">\n",
       "      <th></th>\n",
       "      <th>userid</th>\n",
       "      <th>version</th>\n",
       "      <th>sum_gamerounds</th>\n",
       "      <th>retention_1</th>\n",
       "      <th>retention_7</th>\n",
       "    </tr>\n",
       "  </thead>\n",
       "  <tbody>\n",
       "    <tr>\n",
       "      <th>7912</th>\n",
       "      <td>871500</td>\n",
       "      <td>1</td>\n",
       "      <td>2961</td>\n",
       "      <td>True</td>\n",
       "      <td>True</td>\n",
       "    </tr>\n",
       "    <tr>\n",
       "      <th>29417</th>\n",
       "      <td>3271615</td>\n",
       "      <td>2</td>\n",
       "      <td>2640</td>\n",
       "      <td>True</td>\n",
       "      <td>False</td>\n",
       "    </tr>\n",
       "    <tr>\n",
       "      <th>43671</th>\n",
       "      <td>4832608</td>\n",
       "      <td>1</td>\n",
       "      <td>2438</td>\n",
       "      <td>True</td>\n",
       "      <td>True</td>\n",
       "    </tr>\n",
       "    <tr>\n",
       "      <th>48188</th>\n",
       "      <td>5346171</td>\n",
       "      <td>2</td>\n",
       "      <td>2294</td>\n",
       "      <td>True</td>\n",
       "      <td>True</td>\n",
       "    </tr>\n",
       "    <tr>\n",
       "      <th>46344</th>\n",
       "      <td>5133952</td>\n",
       "      <td>1</td>\n",
       "      <td>2251</td>\n",
       "      <td>True</td>\n",
       "      <td>True</td>\n",
       "    </tr>\n",
       "    <tr>\n",
       "      <th>...</th>\n",
       "      <td>...</td>\n",
       "      <td>...</td>\n",
       "      <td>...</td>\n",
       "      <td>...</td>\n",
       "      <td>...</td>\n",
       "    </tr>\n",
       "    <tr>\n",
       "      <th>36980</th>\n",
       "      <td>4095131</td>\n",
       "      <td>1</td>\n",
       "      <td>30</td>\n",
       "      <td>True</td>\n",
       "      <td>False</td>\n",
       "    </tr>\n",
       "    <tr>\n",
       "      <th>58851</th>\n",
       "      <td>6515306</td>\n",
       "      <td>1</td>\n",
       "      <td>30</td>\n",
       "      <td>False</td>\n",
       "      <td>False</td>\n",
       "    </tr>\n",
       "    <tr>\n",
       "      <th>58867</th>\n",
       "      <td>6517214</td>\n",
       "      <td>1</td>\n",
       "      <td>30</td>\n",
       "      <td>True</td>\n",
       "      <td>False</td>\n",
       "    </tr>\n",
       "    <tr>\n",
       "      <th>87092</th>\n",
       "      <td>9649260</td>\n",
       "      <td>1</td>\n",
       "      <td>30</td>\n",
       "      <td>False</td>\n",
       "      <td>True</td>\n",
       "    </tr>\n",
       "    <tr>\n",
       "      <th>24316</th>\n",
       "      <td>2704012</td>\n",
       "      <td>1</td>\n",
       "      <td>30</td>\n",
       "      <td>False</td>\n",
       "      <td>False</td>\n",
       "    </tr>\n",
       "  </tbody>\n",
       "</table>\n",
       "<p>30482 rows × 5 columns</p>\n",
       "</div>"
      ],
      "text/plain": [
       "        userid version  sum_gamerounds  retention_1  retention_7\n",
       "7912    871500       1            2961         True         True\n",
       "29417  3271615       2            2640         True        False\n",
       "43671  4832608       1            2438         True         True\n",
       "48188  5346171       2            2294         True         True\n",
       "46344  5133952       1            2251         True         True\n",
       "...        ...     ...             ...          ...          ...\n",
       "36980  4095131       1              30         True        False\n",
       "58851  6515306       1              30        False        False\n",
       "58867  6517214       1              30         True        False\n",
       "87092  9649260       1              30        False         True\n",
       "24316  2704012       1              30        False        False\n",
       "\n",
       "[30482 rows x 5 columns]"
      ]
     },
     "execution_count": 12,
     "metadata": {},
     "output_type": "execute_result"
    }
   ],
   "source": [
    "data = data[data[\"userid\"] != 6390605]\n",
    "data\n",
    "\n",
    "sorted = data.sort_values(by=\"sum_gamerounds\", ascending=False)\n",
    "sorted"
   ]
  },
  {
   "cell_type": "markdown",
   "metadata": {},
   "source": [
    "### Balancing groups"
   ]
  },
  {
   "cell_type": "code",
   "execution_count": 13,
   "metadata": {},
   "outputs": [
    {
     "name": "stdout",
     "output_type": "stream",
     "text": [
      "Balanced group - Version 1: 13827, Version 2: 13827\n"
     ]
    }
   ],
   "source": [
    "count_version_1 = (data[\"version\"] == \"1\").sum()\n",
    "count_version_2 = (data[\"version\"] == \"2\").sum()\n",
    "\n",
    "min_size = min(count_version_1, count_version_2)\n",
    "\n",
    "\n",
    "version_1_sample = data[data[\"version\"] == \"1\"].sample(n=min_size, random_state=42)\n",
    "version_2_sample = data[data[\"version\"] == \"2\"].sample(n=min_size, random_state=42)\n",
    "\n",
    "data = pd.concat([version_1_sample, version_2_sample])\n",
    "\n",
    "print(\n",
    "    f\"Balanced group - Version 1: {len(version_1_sample)}, Version 2: {len(version_2_sample)}\"\n",
    ")"
   ]
  },
  {
   "cell_type": "markdown",
   "metadata": {},
   "source": [
    "### Data describe."
   ]
  },
  {
   "cell_type": "code",
   "execution_count": 14,
   "metadata": {},
   "outputs": [
    {
     "name": "stdout",
     "output_type": "stream",
     "text": [
      "             userid  sum_gamerounds\n",
      "count  2.765400e+04    27654.000000\n",
      "mean   5.005624e+06      132.065054\n",
      "std    2.878251e+06      144.263677\n",
      "min    3.370000e+02       30.000000\n",
      "25%    2.522766e+06       51.000000\n",
      "50%    4.991329e+06       82.000000\n",
      "75%    7.495053e+06      155.000000\n",
      "max    9.999768e+06     2640.000000\n"
     ]
    }
   ],
   "source": [
    "print(data.describe())"
   ]
  },
  {
   "cell_type": "markdown",
   "metadata": {},
   "source": [
    "### Counting players who never came back."
   ]
  },
  {
   "cell_type": "code",
   "execution_count": 15,
   "metadata": {},
   "outputs": [
    {
     "name": "stdout",
     "output_type": "stream",
     "text": [
      "3167\n"
     ]
    }
   ],
   "source": [
    "count = ((data[\"retention_1\"] == False) & (data[\"retention_7\"] == False)).sum()\n",
    "print(count)"
   ]
  },
  {
   "cell_type": "markdown",
   "metadata": {},
   "source": [
    "### Counting players who played no less than 30 rounds."
   ]
  },
  {
   "cell_type": "code",
   "execution_count": 16,
   "metadata": {},
   "outputs": [
    {
     "name": "stdout",
     "output_type": "stream",
     "text": [
      "247\n"
     ]
    }
   ],
   "source": [
    "count = (data[\"sum_gamerounds\"] <= 30).sum()\n",
    "print(count)"
   ]
  },
  {
   "cell_type": "markdown",
   "metadata": {},
   "source": [
    "###  Players count by version."
   ]
  },
  {
   "cell_type": "code",
   "execution_count": 17,
   "metadata": {},
   "outputs": [
    {
     "name": "stdout",
     "output_type": "stream",
     "text": [
      "Value \"gate_30\" - 13827 times, Value \"gate_40\" - 13827 times.\n"
     ]
    }
   ],
   "source": [
    "count30 = data[\"version\"].value_counts().get(\"1\", 0)\n",
    "count40 = data[\"version\"].value_counts().get(\"2\", 0)\n",
    "count30\n",
    "count40\n",
    "print(f'Value \"gate_30\" - {count30} times, Value \"gate_40\" - {count40} times.')"
   ]
  },
  {
   "cell_type": "markdown",
   "metadata": {},
   "source": [
    "### Total played round sum by version."
   ]
  },
  {
   "cell_type": "code",
   "execution_count": 18,
   "metadata": {},
   "outputs": [
    {
     "data": {
      "image/png": "[encoded data removed]",
      "text/plain": [
       "<Figure size 640x480 with 1 Axes>"
      ]
     },
     "metadata": {},
     "output_type": "display_data"
    },
    {
     "name": "stdout",
     "output_type": "stream",
     "text": [
      "[1679459 1972668]\n"
     ]
    }
   ],
   "source": [
    "grouped_data = data.groupby(\"version\")[\"sum_gamerounds\"].sum()\n",
    "versions = grouped_data.index\n",
    "sums = grouped_data.values\n",
    "plt.bar(versions, sums, color=[\"blue\", \"green\"])\n",
    "plt.xlabel(\"Version\")\n",
    "plt.ylabel(\"Sum of Gamerounds\")\n",
    "plt.title(\"Sum of Gamerounds by Version\")\n",
    "for i, value in enumerate(sums):\n",
    "    plt.text(i, value, f\"{value}\", ha=\"center\", va=\"bottom\", fontsize=10)\n",
    "plt.show()\n",
    "print(sums)"
   ]
  },
  {
   "cell_type": "markdown",
   "metadata": {},
   "source": [
    "###  Data describe by version."
   ]
  },
  {
   "cell_type": "code",
   "execution_count": 19,
   "metadata": {},
   "outputs": [
    {
     "name": "stdout",
     "output_type": "stream",
     "text": [
      "       sum_gamerounds_v1  sum_gamerounds_v2\n",
      "count       13827.000000       13827.000000\n",
      "mean          121.462284         142.667824\n",
      "std           136.160664         151.198353\n",
      "min            30.000000          40.000000\n",
      "25%            44.000000          58.000000\n",
      "50%            72.000000          92.000000\n",
      "75%           143.000000         165.000000\n",
      "max          2156.000000        2640.000000\n"
     ]
    }
   ],
   "source": [
    "version_1_data = data[data[\"version\"] == \"1\"].drop(columns=[\"userid\"], errors=\"ignore\")\n",
    "version_2_data = data[data[\"version\"] == \"2\"].drop(columns=[\"userid\"], errors=\"ignore\")\n",
    "\n",
    "describe_version_1 = version_1_data.describe()\n",
    "describe_version_2 = version_2_data.describe()\n",
    "describe_version_1.columns = [f\"{col}_v1\" for col in describe_version_1.columns]\n",
    "describe_version_2.columns = [f\"{col}_v2\" for col in describe_version_2.columns]\n",
    "\n",
    "combined_describe = pd.concat([describe_version_1, describe_version_2], axis=1)\n",
    "print(combined_describe)"
   ]
  },
  {
   "cell_type": "markdown",
   "metadata": {},
   "source": [
    "## Analysis"
   ]
  },
  {
   "cell_type": "code",
   "execution_count": 20,
   "metadata": {},
   "outputs": [
    {
     "data": {
      "text/html": [
       "<div>\n",
       "<style scoped>\n",
       "    .dataframe tbody tr th:only-of-type {\n",
       "        vertical-align: middle;\n",
       "    }\n",
       "\n",
       "    .dataframe tbody tr th {\n",
       "        vertical-align: top;\n",
       "    }\n",
       "\n",
       "    .dataframe thead th {\n",
       "        text-align: right;\n",
       "    }\n",
       "</style>\n",
       "<table border=\"1\" class=\"dataframe\">\n",
       "  <thead>\n",
       "    <tr style=\"text-align: right;\">\n",
       "      <th></th>\n",
       "      <th>total_users</th>\n",
       "      <th>ret after 1day count</th>\n",
       "      <th>ret after 7day count</th>\n",
       "      <th>ret after 1day %</th>\n",
       "      <th>ret after 7day %</th>\n",
       "    </tr>\n",
       "    <tr>\n",
       "      <th>version</th>\n",
       "      <th></th>\n",
       "      <th></th>\n",
       "      <th></th>\n",
       "      <th></th>\n",
       "      <th></th>\n",
       "    </tr>\n",
       "  </thead>\n",
       "  <tbody>\n",
       "    <tr>\n",
       "      <th>1</th>\n",
       "      <td>13827</td>\n",
       "      <td>11071</td>\n",
       "      <td>6087</td>\n",
       "      <td>80.067983</td>\n",
       "      <td>44.022565</td>\n",
       "    </tr>\n",
       "    <tr>\n",
       "      <th>2</th>\n",
       "      <td>13827</td>\n",
       "      <td>11479</td>\n",
       "      <td>6707</td>\n",
       "      <td>83.018731</td>\n",
       "      <td>48.506545</td>\n",
       "    </tr>\n",
       "  </tbody>\n",
       "</table>\n",
       "</div>"
      ],
      "text/plain": [
       "         total_users  ret after 1day count  ret after 7day count  \\\n",
       "version                                                            \n",
       "1              13827                 11071                  6087   \n",
       "2              13827                 11479                  6707   \n",
       "\n",
       "         ret after 1day %  ret after 7day %  \n",
       "version                                      \n",
       "1               80.067983         44.022565  \n",
       "2               83.018731         48.506545  "
      ]
     },
     "execution_count": 20,
     "metadata": {},
     "output_type": "execute_result"
    }
   ],
   "source": [
    "df = data\n",
    "cohort = (\n",
    "    df.groupby(\"version\")\n",
    "    .agg({\"userid\": \"count\", \"retention_1\": \"sum\", \"retention_7\": \"sum\"})\n",
    "    .rename(columns={\"userid\": \"total_users\"})\n",
    ")\n",
    "cohort[\"retentions_1\"] = (cohort[\"retention_1\"] / cohort[\"total_users\"]) * 100\n",
    "cohort[\"retentions_7\"] = (cohort[\"retention_7\"] / cohort[\"total_users\"]) * 100\n",
    "cohort = cohort.rename(\n",
    "    columns={\n",
    "        \"retention_1\": \"ret after 1day count\",\n",
    "        \"retention_7\": \"ret after 7day count\",\n",
    "        \"retentions_1\": \"ret after 1day %\",\n",
    "        \"retentions_7\": \"ret after 7day %\",\n",
    "    }\n",
    ")\n",
    "\n",
    "cohort"
   ]
  },
  {
   "cell_type": "code",
   "execution_count": 21,
   "metadata": {},
   "outputs": [
    {
     "name": "stdout",
     "output_type": "stream",
     "text": [
      "Uniq 'version' values: [1 2]\n",
      "Gruop 1 size: 13827, Gruop 2 size: 13827\n",
      "95% CI group 1: (np.float64(119.19255606525266), np.float64(123.73201180919588))\n",
      "95% CI group2: (np.float64(140.1474254403678), np.float64(145.18822220554236))\n"
     ]
    }
   ],
   "source": [
    "data[\"version\"] = pd.to_numeric(data[\"version\"], errors=\"coerce\")\n",
    "data[\"sum_gamerounds\"] = pd.to_numeric(data[\"sum_gamerounds\"], errors=\"coerce\")\n",
    "\n",
    "\n",
    "print(\"Uniq 'version' values:\", data[\"version\"].unique())\n",
    "\n",
    "\n",
    "group1 = data[data[\"version\"] == 1][\"sum_gamerounds\"].dropna()\n",
    "group2 = data[data[\"version\"] == 2][\"sum_gamerounds\"].dropna()\n",
    "\n",
    "\n",
    "print(f\"Gruop 1 size: {len(group1)}, Gruop 2 size: {len(group2)}\")\n",
    "\n",
    "if len(group1) == 0 or len(group2) == 0:\n",
    "    print(\"Error: No data with version == 1 or version == 2!\")\n",
    "else:\n",
    "\n",
    "    def calculate_ci(data, confidence=0.95):\n",
    "        n = len(data)\n",
    "        if n < 2:\n",
    "            return (np.nan, np.nan)\n",
    "        mean = np.mean(data)\n",
    "        std_dev = np.std(data, ddof=1)\n",
    "        t_critical = stats.t.ppf((1 + confidence) / 2, df=n - 1)\n",
    "        margin_of_error = t_critical * (std_dev / np.sqrt(n))\n",
    "        return mean - margin_of_error, mean + margin_of_error\n",
    "\n",
    "    ci_group1 = calculate_ci(group1)\n",
    "    ci_group2 = calculate_ci(group2)\n",
    "\n",
    "    print(f\"95% CI group 1: {ci_group1}\")\n",
    "    print(f\"95% CI group2: {ci_group2}\")"
   ]
  },
  {
   "cell_type": "markdown",
   "metadata": {},
   "source": [
    "### Z-test"
   ]
  },
  {
   "cell_type": "markdown",
   "metadata": {},
   "source": [
    "Null Hypothesis: moving the gate from level 30 to level 40 does not increase engagement or retention, or it could even result in lower engagement and retention.\n",
    "\n",
    "Alternative Hypothesis: moving the gate from level 30 to level 40 leads to higher engagement (more rounds played) and higher retention rates (higher retention_1 and retention_7)."
   ]
  },
  {
   "cell_type": "code",
   "execution_count": 22,
   "metadata": {},
   "outputs": [
    {
     "name": "stdout",
     "output_type": "stream",
     "text": [
      "\n",
      " Z-test for retention_1:\n",
      "   Z-statistic: -6.3286, P-value: 0.0000\n",
      "Significant difference between Version 1 and Version 2.\n",
      "Version 2 retention_1 is higher.\n",
      "\n",
      " Z-test for retention_7:\n",
      "   Z-statistic: -7.4848, P-value: 0.0000\n",
      "Significant difference between Version 1 and Version 2.\n",
      "Version 2 retention_7 is higher.\n"
     ]
    }
   ],
   "source": [
    "group1_ret1 = data[data[\"version\"] == 1][\"retention_1\"]\n",
    "group2_ret1 = data[data[\"version\"] == 2][\"retention_1\"]\n",
    "\n",
    "group1_ret7 = data[data[\"version\"] == 1][\"retention_7\"]\n",
    "group2_ret7 = data[data[\"version\"] == 2][\"retention_7\"]\n",
    "\n",
    "\n",
    "def perform_ztest(group1, group2, label):\n",
    "    if len(group1) > 0 and len(group2) > 0:\n",
    "        z_stat, p_value = ztest(group1, group2)\n",
    "        print(f\"\\n Z-test for {label}:\")\n",
    "        print(f\"   Z-statistic: {z_stat:.4f}, P-value: {p_value:.4f}\")\n",
    "\n",
    "        if p_value < 0.05:\n",
    "            print(\"Significant difference between Version 1 and Version 2.\")\n",
    "            if z_stat > 0:\n",
    "                print(f\"Version 1 {label} is higher.\")\n",
    "            else:\n",
    "                print(f\"Version 2 {label} is higher.\")\n",
    "        else:\n",
    "            print(\"No significant difference between Version 1 and Version 2.\")\n",
    "    else:\n",
    "        print(f\"Error: One or both groups have no data for {label}!\")\n",
    "\n",
    "\n",
    "perform_ztest(group1_ret1, group2_ret1, \"retention_1\")\n",
    "perform_ztest(group1_ret7, group2_ret7, \"retention_7\")"
   ]
  },
  {
   "cell_type": "code",
   "execution_count": 23,
   "metadata": {},
   "outputs": [
    {
     "name": "stdout",
     "output_type": "stream",
     "text": [
      "Z-test Z-statistic: -7.4848, P-value: 0.0000\n",
      "Significant difference between Version 1 and Version 2.\n",
      "Version 2 retention_7 is higher.\n"
     ]
    }
   ],
   "source": [
    "z_stat, p_value = ztest(\n",
    "    data[data[\"version\"] == 1][\"retention_7\"], data[data[\"version\"] == 2][\"retention_7\"]\n",
    ")\n",
    "\n",
    "print(f\"Z-test Z-statistic: {z_stat:.4f}, P-value: {p_value:.4f}\")\n",
    "\n",
    "if p_value < 0.05:\n",
    "    print(\"Significant difference between Version 1 and Version 2.\")\n",
    "\n",
    "    if z_stat > 0:\n",
    "        print(\"Version 1 retention_7 is higher.\")\n",
    "    else:\n",
    "        print(\"Version 2 retention_7 is higher.\")\n",
    "else:\n",
    "    print(\"No significant difference between Version 1 and Version 2.\")"
   ]
  },
  {
   "cell_type": "markdown",
   "metadata": {},
   "source": [
    "### Retension calculation"
   ]
  },
  {
   "cell_type": "code",
   "execution_count": 24,
   "metadata": {},
   "outputs": [
    {
     "name": "stdout",
     "output_type": "stream",
     "text": [
      "Version 1 Retention 7-day: 0.4402\n",
      "Version 2 Retention 7-day: 0.4851\n",
      "Version 2 has better 7-day retention.\n"
     ]
    }
   ],
   "source": [
    "ret7_mean_v1 = data[data[\"version\"] == 1][\"retention_7\"].mean()\n",
    "ret7_mean_v2 = data[data[\"version\"] == 2][\"retention_7\"].mean()\n",
    "\n",
    "print(f\"Version 1 Retention 7-day: {ret7_mean_v1:.4f}\")\n",
    "print(f\"Version 2 Retention 7-day: {ret7_mean_v2:.4f}\")\n",
    "\n",
    "if ret7_mean_v1 > ret7_mean_v2:\n",
    "    print(\"Version 1 has better 7-day retention.\")\n",
    "else:\n",
    "    print(\"Version 2 has better 7-day retention.\")"
   ]
  },
  {
   "cell_type": "markdown",
   "metadata": {},
   "source": [
    "### Median of players played rounds by version."
   ]
  },
  {
   "cell_type": "code",
   "execution_count": 25,
   "metadata": {},
   "outputs": [
    {
     "name": "stdout",
     "output_type": "stream",
     "text": [
      "Index(['1', '2'], dtype='object', name='version')\n"
     ]
    }
   ],
   "source": [
    "print(grouped_data.index)"
   ]
  },
  {
   "cell_type": "code",
   "execution_count": 26,
   "metadata": {},
   "outputs": [
    {
     "data": {
      "image/png": "[encoded data removed]",
      "text/plain": [
       "<Figure size 640x480 with 1 Axes>"
      ]
     },
     "metadata": {},
     "output_type": "display_data"
    },
    {
     "name": "stdout",
     "output_type": "stream",
     "text": [
      "[72. 92.]\n"
     ]
    }
   ],
   "source": [
    "grouped_data = data.groupby(\"version\")[\"sum_gamerounds\"].median()\n",
    "versions = grouped_data.index\n",
    "sums = grouped_data.values\n",
    "plt.bar(versions, sums, color=[\"blue\", \"green\"])\n",
    "plt.xlabel(\"Version\")\n",
    "plt.ylabel(\"Median of Gamerounds\")\n",
    "plt.title(\"Median of Gamerounds played one player by Version\")\n",
    "for i, value in enumerate(sums):\n",
    "    plt.text(i, value, f\"{value}\", ha=\"center\", va=\"bottom\", fontsize=10)\n",
    "plt.xticks([1, 2], [\"1\", \"2\"])\n",
    "plt.show()\n",
    "print(sums)"
   ]
  },
  {
   "cell_type": "markdown",
   "metadata": {},
   "source": [
    "Plot shows that Version 1 has average played Gamerounds - 72 and Version 2 - 92"
   ]
  },
  {
   "cell_type": "markdown",
   "metadata": {},
   "source": [
    "## Additional"
   ]
  },
  {
   "cell_type": "markdown",
   "metadata": {},
   "source": [
    "### Calculation of retension combinations. "
   ]
  },
  {
   "cell_type": "code",
   "execution_count": 27,
   "metadata": {},
   "outputs": [
    {
     "name": "stderr",
     "output_type": "stream",
     "text": [
      "C:\\Users\\Dell\\AppData\\Local\\Temp\\ipykernel_22244\\1778223302.py:14: FutureWarning: \n",
      "\n",
      "Passing `palette` without assigning `hue` is deprecated and will be removed in v0.14.0. Assign the `x` variable to `hue` and set `legend=False` for the same effect.\n",
      "\n",
      "  bars = sns.barplot(x=\"label\", y=\"count\", data=counts, palette=\"Set1\")\n"
     ]
    },
    {
     "data": {
      "image/png": "[encoded data removed]",
      "text/plain": [
       "<Figure size 800x600 with 1 Axes>"
      ]
     },
     "metadata": {},
     "output_type": "display_data"
    }
   ],
   "source": [
    "counts = data.groupby([\"retention_1\", \"retention_7\"]).size().reset_index(name=\"count\")\n",
    "counts[\"label\"] = (\n",
    "    \"Ret1 \"\n",
    "    + counts[\"retention_1\"].astype(str)\n",
    "    + \" / Ret7 \"\n",
    "    + counts[\"retention_7\"].astype(str)\n",
    ")\n",
    "\n",
    "counts = counts.rename(\n",
    "    columns={\"retention_1\": \"Retention 1\", \"retention_7\": \"Retention 7\"}\n",
    ")\n",
    "\n",
    "plt.figure(figsize=(8, 6))\n",
    "bars = sns.barplot(x=\"label\", y=\"count\", data=counts, palette=\"Set1\")\n",
    "\n",
    "plt.xlabel(\"Retention combination\")\n",
    "plt.ylabel(\"Count\")\n",
    "plt.title(\"Retention 1 and Retention 7 combinations\")\n",
    "\n",
    "for bar in bars.patches:\n",
    "    yval = bar.get_height()\n",
    "    plt.text(\n",
    "        bar.get_x() + bar.get_width() / 2,\n",
    "        yval,\n",
    "        f\"{yval:.0f}\",\n",
    "        ha=\"center\",\n",
    "        va=\"bottom\",\n",
    "        fontsize=10,\n",
    "    )\n",
    "\n",
    "plt.xticks(rotation=45)\n",
    "\n",
    "plt.show()"
   ]
  },
  {
   "cell_type": "markdown",
   "metadata": {},
   "source": [
    "Plot shows players retension count in diferent combinations. The biggest part - the players who came back only after one day, but not came back after 7, a slightlt "
   ]
  },
  {
   "cell_type": "code",
   "execution_count": 28,
   "metadata": {},
   "outputs": [
    {
     "data": {
      "image/png": "[encoded data removed]",
      "text/plain": [
       "<Figure size 1000x600 with 1 Axes>"
      ]
     },
     "metadata": {},
     "output_type": "display_data"
    }
   ],
   "source": [
    "df = data\n",
    "counts = (\n",
    "    df.groupby([\"retention_1\", \"retention_7\", \"version\"])\n",
    "    .size()\n",
    "    .reset_index(name=\"count\")\n",
    ")\n",
    "\n",
    "counts[\"label\"] = (\n",
    "    counts[\"retention_1\"].astype(str) + \" / \" + counts[\"retention_7\"].astype(str)\n",
    ")\n",
    "\n",
    "counts[\"label\"] = (\n",
    "    \"Ret1 \"\n",
    "    + counts[\"retention_1\"].astype(str)\n",
    "    + \" / Ret7 \"\n",
    "    + counts[\"retention_7\"].astype(str)\n",
    ")\n",
    "\n",
    "plt.figure(figsize=(10, 6))\n",
    "sns.barplot(data=counts, x=\"label\", y=\"count\", hue=\"version\", palette=\"Set1\")\n",
    "\n",
    "plt.xlabel(\"Retention Combination\")\n",
    "plt.ylabel(\"Number\")\n",
    "plt.title(\"Retention 1 and Retention 7 Combinations by Version\")\n",
    "\n",
    "plt.show()"
   ]
  },
  {
   "cell_type": "markdown",
   "metadata": {},
   "source": [
    "When player did not come back neither after 1 or after 7 days and players came back after 1 Gate_30 performed better.\n",
    "When player players came back after 1 and after 7 Gate_40 performed better.\n",
    "When player players came back after  7 both gates performed sikilary.\n",
    "To present more aqurate and reliable recomendation aditional data and more analysis needed."
   ]
  },
  {
   "cell_type": "markdown",
   "metadata": {},
   "source": [
    "## Results\n"
   ]
  },
  {
   "cell_type": "markdown",
   "metadata": {},
   "source": [
    "This analysis delivers that game performs better result when first gate position is in at level 30. The recomendation is proved by calculations and tests."
   ]
  },
  {
   "cell_type": "markdown",
   "metadata": {},
   "source": [
    "## Improves for the future"
   ]
  },
  {
   "cell_type": "markdown",
   "metadata": {},
   "source": [
    "Analize different combinations of retension."
   ]
  }
 ],
 "metadata": {
  "kernelspec": {
   "display_name": "pydata-book",
   "language": "python",
   "name": "python3"
  },
  "language_info": {
   "codemirror_mode": {
    "name": "ipython",
    "version": 3
   },
   "file_extension": ".py",
   "mimetype": "text/x-python",
   "name": "python",
   "nbconvert_exporter": "python",
   "pygments_lexer": "ipython3",
   "version": "3.10.14"
  }
 },
 "nbformat": 4,
 "nbformat_minor": 2
}
